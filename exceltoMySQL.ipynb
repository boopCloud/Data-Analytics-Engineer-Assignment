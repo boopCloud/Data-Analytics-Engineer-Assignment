{
 "cells": [
  {
   "cell_type": "markdown",
   "metadata": {},
   "source": [
    "<h1 style=\"color: purple\">Script to transfer Excel data into MySQL database</h1>"
   ]
  },
  {
   "cell_type": "markdown",
   "metadata": {},
   "source": [
    "<h3 style=\"color: blue\">Importing necessary libraries in our program</h3>\n",
    "<p><em> In our program, we use two libraries, one is Pandas and other is mysql-connector-python\n",
    " </em>  </p>"
   ]
  },
  {
   "cell_type": "code",
   "execution_count": 188,
   "metadata": {},
   "outputs": [],
   "source": [
    "import pandas as pd\n",
    "import mysql.connector"
   ]
  },
  {
   "cell_type": "markdown",
   "metadata": {},
   "source": [
    "<h3 style=\"color: blue\">Reading the beginner_assignment01.xlsx file</h3>\n",
    "<p><em>As we can observe that our excel workbook have two separate sheets so we create two different dataframes for the purpose\n",
    "</em></p>"
   ]
  },
  {
   "cell_type": "code",
   "execution_count": 189,
   "metadata": {},
   "outputs": [],
   "source": [
    "df1 = pd.read_excel(\"beginner_assignment01.xlsx\", 'group_listing')\n",
    "df2 = pd.read_excel(\"beginner_assignment01.xlsx\", 'product_listing')"
   ]
  },
  {
   "cell_type": "markdown",
   "metadata": {},
   "source": [
    "<h3 style=\"color: blue\">Showing first 5 rows of our dataframe</h3>\n",
    "<p><em>We check whether we have obtained and are reading the correct data-set</em></p>"
   ]
  },
  {
   "cell_type": "code",
   "execution_count": 190,
   "metadata": {},
   "outputs": [
    {
     "data": {
      "text/html": [
       "<div>\n",
       "<style scoped>\n",
       "    .dataframe tbody tr th:only-of-type {\n",
       "        vertical-align: middle;\n",
       "    }\n",
       "\n",
       "    .dataframe tbody tr th {\n",
       "        vertical-align: top;\n",
       "    }\n",
       "\n",
       "    .dataframe thead th {\n",
       "        text-align: right;\n",
       "    }\n",
       "</style>\n",
       "<table border=\"1\" class=\"dataframe\">\n",
       "  <thead>\n",
       "    <tr style=\"text-align: right;\">\n",
       "      <th></th>\n",
       "      <th>group name</th>\n",
       "      <th>group description</th>\n",
       "      <th>isActive</th>\n",
       "    </tr>\n",
       "  </thead>\n",
       "  <tbody>\n",
       "    <tr>\n",
       "      <th>0</th>\n",
       "      <td>Group 1</td>\n",
       "      <td>Group Number 1</td>\n",
       "      <td>yes</td>\n",
       "    </tr>\n",
       "    <tr>\n",
       "      <th>1</th>\n",
       "      <td>Group 2</td>\n",
       "      <td>Group Number 2</td>\n",
       "      <td>yes</td>\n",
       "    </tr>\n",
       "    <tr>\n",
       "      <th>2</th>\n",
       "      <td>Group 3</td>\n",
       "      <td>Group Number 3</td>\n",
       "      <td>yes</td>\n",
       "    </tr>\n",
       "    <tr>\n",
       "      <th>3</th>\n",
       "      <td>Group 4</td>\n",
       "      <td>Group Number 4</td>\n",
       "      <td>yes</td>\n",
       "    </tr>\n",
       "    <tr>\n",
       "      <th>4</th>\n",
       "      <td>Group 5</td>\n",
       "      <td>Group Number 5</td>\n",
       "      <td>yes</td>\n",
       "    </tr>\n",
       "  </tbody>\n",
       "</table>\n",
       "</div>"
      ],
      "text/plain": [
       "  group name group description isActive\n",
       "0    Group 1    Group Number 1      yes\n",
       "1    Group 2    Group Number 2      yes\n",
       "2    Group 3    Group Number 3      yes\n",
       "3    Group 4    Group Number 4      yes\n",
       "4    Group 5    Group Number 5      yes"
      ]
     },
     "execution_count": 190,
     "metadata": {},
     "output_type": "execute_result"
    }
   ],
   "source": [
    "df1.head()"
   ]
  },
  {
   "cell_type": "code",
   "execution_count": 191,
   "metadata": {},
   "outputs": [
    {
     "data": {
      "text/html": [
       "<div>\n",
       "<style scoped>\n",
       "    .dataframe tbody tr th:only-of-type {\n",
       "        vertical-align: middle;\n",
       "    }\n",
       "\n",
       "    .dataframe tbody tr th {\n",
       "        vertical-align: top;\n",
       "    }\n",
       "\n",
       "    .dataframe thead th {\n",
       "        text-align: right;\n",
       "    }\n",
       "</style>\n",
       "<table border=\"1\" class=\"dataframe\">\n",
       "  <thead>\n",
       "    <tr style=\"text-align: right;\">\n",
       "      <th></th>\n",
       "      <th>Product Name</th>\n",
       "      <th>Model Name</th>\n",
       "      <th>Product Serial No</th>\n",
       "      <th>Group Associated</th>\n",
       "      <th>product MRP (rs.)</th>\n",
       "    </tr>\n",
       "  </thead>\n",
       "  <tbody>\n",
       "    <tr>\n",
       "      <th>0</th>\n",
       "      <td>Demo Product 1</td>\n",
       "      <td>Product Model 1</td>\n",
       "      <td>98765987659801</td>\n",
       "      <td>Group 1</td>\n",
       "      <td>1001</td>\n",
       "    </tr>\n",
       "    <tr>\n",
       "      <th>1</th>\n",
       "      <td>Demo Product 1</td>\n",
       "      <td>Product Model 1</td>\n",
       "      <td>98765987659802</td>\n",
       "      <td>Group 2</td>\n",
       "      <td>1002</td>\n",
       "    </tr>\n",
       "    <tr>\n",
       "      <th>2</th>\n",
       "      <td>Demo Product 1</td>\n",
       "      <td>Product Model 1</td>\n",
       "      <td>98765987659803</td>\n",
       "      <td>Group 3</td>\n",
       "      <td>1003</td>\n",
       "    </tr>\n",
       "    <tr>\n",
       "      <th>3</th>\n",
       "      <td>Demo Product 1</td>\n",
       "      <td>Product Model 1</td>\n",
       "      <td>98765987659804</td>\n",
       "      <td>Group 4</td>\n",
       "      <td>1004</td>\n",
       "    </tr>\n",
       "    <tr>\n",
       "      <th>4</th>\n",
       "      <td>Demo Product 1</td>\n",
       "      <td>Product Model 1</td>\n",
       "      <td>98765987659805</td>\n",
       "      <td>Group 5</td>\n",
       "      <td>1005</td>\n",
       "    </tr>\n",
       "  </tbody>\n",
       "</table>\n",
       "</div>"
      ],
      "text/plain": [
       "     Product Name       Model Name  Product Serial No Group Associated  \\\n",
       "0  Demo Product 1  Product Model 1     98765987659801          Group 1   \n",
       "1  Demo Product 1  Product Model 1     98765987659802          Group 2   \n",
       "2  Demo Product 1  Product Model 1     98765987659803          Group 3   \n",
       "3  Demo Product 1  Product Model 1     98765987659804          Group 4   \n",
       "4  Demo Product 1  Product Model 1     98765987659805          Group 5   \n",
       "\n",
       "   product MRP (rs.)  \n",
       "0               1001  \n",
       "1               1002  \n",
       "2               1003  \n",
       "3               1004  \n",
       "4               1005  "
      ]
     },
     "execution_count": 191,
     "metadata": {},
     "output_type": "execute_result"
    }
   ],
   "source": [
    "df2.head()"
   ]
  },
  {
   "cell_type": "markdown",
   "metadata": {},
   "source": [
    "<h3 style=\"color: blue\">Converting our data frame to list data structure</h3>\n",
    "<p><em> This has been done so that it becomes easier to transfer the data given in the excel sheet to our MySQL database which we will see in the upcoming codes\n",
    "    </em>  </p>"
   ]
  },
  {
   "cell_type": "code",
   "execution_count": 192,
   "metadata": {},
   "outputs": [],
   "source": [
    "product_list = df2.values.tolist()\n",
    "group_list = df1.values.tolist()"
   ]
  },
  {
   "cell_type": "markdown",
   "metadata": {},
   "source": [
    "<h3 style=\"color: blue\">Connecting to our database</h3>\n",
    "<p><em>We can connect to our database in the below given manner by mentioning host name, user name, password. auth_plugin is optional. In the below script, just add the your respective MySQL host, user and your password\n",
    "    </em>  </p>"
   ]
  },
  {
   "cell_type": "code",
   "execution_count": 193,
   "metadata": {
    "scrolled": true
   },
   "outputs": [],
   "source": [
    "db = mysql.connector.connect(host='localhost', user='root', passwd='password', \n",
    "                              auth_plugin='mysql_native_password')"
   ]
  },
  {
   "cell_type": "markdown",
   "metadata": {},
   "source": [
    "<h3 style=\"color: blue\">Creating cursor</h3>\n",
    "<p><em>A cursor is a temporary area where all the sql statement execution takes place.\n",
    "    </em>  </p>"
   ]
  },
  {
   "cell_type": "code",
   "execution_count": 194,
   "metadata": {},
   "outputs": [],
   "source": [
    "mycursor = db.cursor()"
   ]
  },
  {
   "cell_type": "markdown",
   "metadata": {},
   "source": [
    "<h3 style=\"color: blue\">Dropping schema</h3>\n",
    "<p><em>If someone uses this program code and they already have a DB schema named `mydukan` then, it will be dropped for creation of new schema\n",
    "    </em>  </p>"
   ]
  },
  {
   "cell_type": "code",
   "execution_count": 195,
   "metadata": {},
   "outputs": [],
   "source": [
    "mycursor.execute(\"DROP SCHEMA IF EXISTS `mydukan`\")"
   ]
  },
  {
   "cell_type": "markdown",
   "metadata": {},
   "source": [
    "<h3 style=\"color: blue\">Creating DB Schema</h3>\n",
    "<p><em>We use create statement in order to create the DB Schema named 'mydukan'\n",
    "    </em>  </p>"
   ]
  },
  {
   "cell_type": "code",
   "execution_count": 196,
   "metadata": {},
   "outputs": [],
   "source": [
    "mycursor.execute(\"CREATE SCHEMA `mydukan`\")\n",
    "mycursor.execute(\"USE `mydukan`\")"
   ]
  },
  {
   "cell_type": "markdown",
   "metadata": {},
   "source": [
    "<h3 style=\"color: blue\">Dropping table</h3>\n",
    "<p><em>Now we going to create two tables but if somehow, the below mentioned table already exists then, this statement will drop them\n",
    "    </em>  </p>"
   ]
  },
  {
   "cell_type": "code",
   "execution_count": 197,
   "metadata": {},
   "outputs": [],
   "source": [
    "mycursor.execute(\"DROP TABLE IF EXISTS `mydukan.group_listing`\")\n",
    "mycursor.execute(\"DROP TABLE IF EXISTS `mydukan.product_listing`\")"
   ]
  },
  {
   "cell_type": "markdown",
   "metadata": {},
   "source": [
    "<h3 style=\"color: blue\">Creating new table 'group_listing'</h3>\n",
    "<p><em>We create a new table 'group_listing' with the below mentioned attributes similar to that of the excel sheet. The column 'group_name' acts as the primary key for the table\n",
    "    </em>  </p>\n",
    " <ul>\n",
    "    <li>group_name <b>(PRIMARY KEY)</b></li>\n",
    "    <li>group_description</li>\n",
    "    <li>isActive</li>\n",
    "    </ul>"
   ]
  },
  {
   "cell_type": "code",
   "execution_count": 198,
   "metadata": {},
   "outputs": [],
   "source": [
    "sql = \"create table mydukan.group_listing(group_name varchar(20) NOT NULL, group_description varchar(20), isActive varchar(10), \\\n",
    "PRIMARY KEY(group_name))\""
   ]
  },
  {
   "cell_type": "code",
   "execution_count": 199,
   "metadata": {},
   "outputs": [],
   "source": [
    "mycursor.execute(sql)"
   ]
  },
  {
   "cell_type": "markdown",
   "metadata": {},
   "source": [
    "<h3 style=\"color: blue\">Inserting into table 'group_listing'</h3>\n",
    "<p><em>Once, table has been created, we insert the data from list 'group_list' into the table 'group_listing' using the insert statement\n",
    "    </em>  </p>"
   ]
  },
  {
   "cell_type": "code",
   "execution_count": 200,
   "metadata": {},
   "outputs": [],
   "source": [
    "sql = \"insert into mydukan.group_listing (group_name, group_description, isActive) values (%s, %s, %s)\""
   ]
  },
  {
   "cell_type": "code",
   "execution_count": 201,
   "metadata": {},
   "outputs": [],
   "source": [
    "for i in group_list:\n",
    "    g_nm, g_desc, isact = i\n",
    "    val = (g_nm, g_desc, isact)\n",
    "    mycursor.execute(sql, val)"
   ]
  },
  {
   "cell_type": "markdown",
   "metadata": {},
   "source": [
    "<h3 style=\"color: blue\">Creating another table 'product_listing'</h3>\n",
    "<p><em>We create another table 'product_listing' with the below mentioned attributes similar to that of the excel sheet. The column 'product_serial_no' is the primary key while the column 'group_assc' acts as foreing key referencing 'group_name' column of table 'group_listing'\n",
    "    </em>  </p>\n",
    "    \n",
    " <ul>\n",
    "    <li>product_serial_no<b> (PRIMARY KEY)</b></li>\n",
    "    <li>product_name</li>\n",
    "    <li>model_name</li>\n",
    "    <li>group_assc<b> (FOREIGN KEY)</b></li>\n",
    "    <li>MRP</li>\n",
    "    </ul>"
   ]
  },
  {
   "cell_type": "code",
   "execution_count": 202,
   "metadata": {},
   "outputs": [],
   "source": [
    "sql = \"create table mydukan.product_listing(product_serial_no varchar(20) NOT NULL, product_name varchar(20), model_name varchar(20), \\\n",
    "group_assc varchar(10), MRP int NOT NULL, PRIMARY KEY(product_serial_no), FOREIGN KEY(group_assc) REFERENCES \\\n",
    "mydukan.group_listing(group_name))\""
   ]
  },
  {
   "cell_type": "code",
   "execution_count": 203,
   "metadata": {},
   "outputs": [],
   "source": [
    "mycursor.execute(sql)"
   ]
  },
  {
   "cell_type": "markdown",
   "metadata": {},
   "source": [
    "<h3 style=\"color: blue\">Inserting data into table 'product_listing'</h3>\n",
    "<p><em>Now, we insert the data from the list 'product_list' into table 'product_listing'\n",
    "    </em>  </p>"
   ]
  },
  {
   "cell_type": "code",
   "execution_count": 204,
   "metadata": {},
   "outputs": [],
   "source": [
    "sql = \"insert into mydukan.product_listing (product_serial_no, product_name, model_name, \\\n",
    "group_assc, MRP) values (%s, %s, %s, %s, %s)\""
   ]
  },
  {
   "cell_type": "code",
   "execution_count": 205,
   "metadata": {},
   "outputs": [],
   "source": [
    "for i in product_list:\n",
    "    p_nm, m_nm, s_no, grp_assc, mrp = i\n",
    "    val = (s_no, p_nm, m_nm, grp_assc, mrp)\n",
    "    mycursor.execute(sql, val)"
   ]
  },
  {
   "cell_type": "markdown",
   "metadata": {},
   "source": [
    "<h3 style=\"color: blue\">Commiting our database</h3>\n",
    "<p><em>Once both the tables have been created and the data has been inserted, the last and the most important thing we have to do is commit the transaction that took place in order to see the effects.\n",
    "    </em>  </p>"
   ]
  },
  {
   "cell_type": "code",
   "execution_count": 206,
   "metadata": {},
   "outputs": [],
   "source": [
    "db.commit()"
   ]
  }
 ],
 "metadata": {
  "kernelspec": {
   "display_name": "Python 3",
   "language": "python",
   "name": "python3"
  },
  "language_info": {
   "codemirror_mode": {
    "name": "ipython",
    "version": 3
   },
   "file_extension": ".py",
   "mimetype": "text/x-python",
   "name": "python",
   "nbconvert_exporter": "python",
   "pygments_lexer": "ipython3",
   "version": "3.7.3"
  }
 },
 "nbformat": 4,
 "nbformat_minor": 2
}

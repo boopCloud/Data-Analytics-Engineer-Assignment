{
 "cells": [
  {
   "cell_type": "markdown",
   "metadata": {},
   "source": [
    "<h1 style=\"color: purple\">Script to transfer Excel data into ElasticSearch</h1>"
   ]
  },
  {
   "cell_type": "markdown",
   "metadata": {},
   "source": [
    "<h3 style=\"color: blue\">Importing necessary libraries in our program</h3>\n",
    "<p><em> In our program, we use two libraries, one is Pandas and other is elasticsearch\n",
    " </em>  </p>"
   ]
  },
  {
   "cell_type": "code",
   "execution_count": 33,
   "metadata": {},
   "outputs": [],
   "source": [
    "from elasticsearch import Elasticsearch\n",
    "import pandas as pd"
   ]
  },
  {
   "cell_type": "markdown",
   "metadata": {},
   "source": [
    "<h3 style=\"color: blue\">Converting excel file into Data-Frames</h3>\n",
    "<p><em> As we can observe that our excel workbook have two separate sheets so we create two different dataframes for the purpose\n",
    " </em>  </p>"
   ]
  },
  {
   "cell_type": "code",
   "execution_count": 34,
   "metadata": {},
   "outputs": [],
   "source": [
    "df1 = pd.read_excel(\"beginner_assignment01.xlsx\", \"group_listing\")\n",
    "df2 = pd.read_excel(\"beginner_assignment01.xlsx\", \"product_listing\")"
   ]
  },
  {
   "cell_type": "markdown",
   "metadata": {},
   "source": [
    "<h3 style=\"color: blue\">Showing first 5 rows of our dataframe</h3>\n",
    "<p><em>We check whether we have obtained and are reading the correct data-set</em></p>"
   ]
  },
  {
   "cell_type": "code",
   "execution_count": 35,
   "metadata": {},
   "outputs": [
    {
     "data": {
      "text/html": [
       "<div>\n",
       "<style scoped>\n",
       "    .dataframe tbody tr th:only-of-type {\n",
       "        vertical-align: middle;\n",
       "    }\n",
       "\n",
       "    .dataframe tbody tr th {\n",
       "        vertical-align: top;\n",
       "    }\n",
       "\n",
       "    .dataframe thead th {\n",
       "        text-align: right;\n",
       "    }\n",
       "</style>\n",
       "<table border=\"1\" class=\"dataframe\">\n",
       "  <thead>\n",
       "    <tr style=\"text-align: right;\">\n",
       "      <th></th>\n",
       "      <th>group name</th>\n",
       "      <th>group description</th>\n",
       "      <th>isActive</th>\n",
       "    </tr>\n",
       "  </thead>\n",
       "  <tbody>\n",
       "    <tr>\n",
       "      <th>0</th>\n",
       "      <td>Group 1</td>\n",
       "      <td>Group Number 1</td>\n",
       "      <td>yes</td>\n",
       "    </tr>\n",
       "    <tr>\n",
       "      <th>1</th>\n",
       "      <td>Group 2</td>\n",
       "      <td>Group Number 2</td>\n",
       "      <td>yes</td>\n",
       "    </tr>\n",
       "    <tr>\n",
       "      <th>2</th>\n",
       "      <td>Group 3</td>\n",
       "      <td>Group Number 3</td>\n",
       "      <td>yes</td>\n",
       "    </tr>\n",
       "    <tr>\n",
       "      <th>3</th>\n",
       "      <td>Group 4</td>\n",
       "      <td>Group Number 4</td>\n",
       "      <td>yes</td>\n",
       "    </tr>\n",
       "    <tr>\n",
       "      <th>4</th>\n",
       "      <td>Group 5</td>\n",
       "      <td>Group Number 5</td>\n",
       "      <td>yes</td>\n",
       "    </tr>\n",
       "  </tbody>\n",
       "</table>\n",
       "</div>"
      ],
      "text/plain": [
       "  group name group description isActive\n",
       "0    Group 1    Group Number 1      yes\n",
       "1    Group 2    Group Number 2      yes\n",
       "2    Group 3    Group Number 3      yes\n",
       "3    Group 4    Group Number 4      yes\n",
       "4    Group 5    Group Number 5      yes"
      ]
     },
     "execution_count": 35,
     "metadata": {},
     "output_type": "execute_result"
    }
   ],
   "source": [
    "df1.head()"
   ]
  },
  {
   "cell_type": "code",
   "execution_count": 36,
   "metadata": {
    "scrolled": true
   },
   "outputs": [
    {
     "data": {
      "text/html": [
       "<div>\n",
       "<style scoped>\n",
       "    .dataframe tbody tr th:only-of-type {\n",
       "        vertical-align: middle;\n",
       "    }\n",
       "\n",
       "    .dataframe tbody tr th {\n",
       "        vertical-align: top;\n",
       "    }\n",
       "\n",
       "    .dataframe thead th {\n",
       "        text-align: right;\n",
       "    }\n",
       "</style>\n",
       "<table border=\"1\" class=\"dataframe\">\n",
       "  <thead>\n",
       "    <tr style=\"text-align: right;\">\n",
       "      <th></th>\n",
       "      <th>Product Name</th>\n",
       "      <th>Model Name</th>\n",
       "      <th>Product Serial No</th>\n",
       "      <th>Group Associated</th>\n",
       "      <th>product MRP (rs.)</th>\n",
       "    </tr>\n",
       "  </thead>\n",
       "  <tbody>\n",
       "    <tr>\n",
       "      <th>0</th>\n",
       "      <td>Demo Product 1</td>\n",
       "      <td>Product Model 1</td>\n",
       "      <td>98765987659801</td>\n",
       "      <td>Group 1</td>\n",
       "      <td>1001</td>\n",
       "    </tr>\n",
       "    <tr>\n",
       "      <th>1</th>\n",
       "      <td>Demo Product 1</td>\n",
       "      <td>Product Model 1</td>\n",
       "      <td>98765987659802</td>\n",
       "      <td>Group 2</td>\n",
       "      <td>1002</td>\n",
       "    </tr>\n",
       "    <tr>\n",
       "      <th>2</th>\n",
       "      <td>Demo Product 1</td>\n",
       "      <td>Product Model 1</td>\n",
       "      <td>98765987659803</td>\n",
       "      <td>Group 3</td>\n",
       "      <td>1003</td>\n",
       "    </tr>\n",
       "    <tr>\n",
       "      <th>3</th>\n",
       "      <td>Demo Product 1</td>\n",
       "      <td>Product Model 1</td>\n",
       "      <td>98765987659804</td>\n",
       "      <td>Group 4</td>\n",
       "      <td>1004</td>\n",
       "    </tr>\n",
       "    <tr>\n",
       "      <th>4</th>\n",
       "      <td>Demo Product 1</td>\n",
       "      <td>Product Model 1</td>\n",
       "      <td>98765987659805</td>\n",
       "      <td>Group 5</td>\n",
       "      <td>1005</td>\n",
       "    </tr>\n",
       "  </tbody>\n",
       "</table>\n",
       "</div>"
      ],
      "text/plain": [
       "     Product Name       Model Name  Product Serial No Group Associated  \\\n",
       "0  Demo Product 1  Product Model 1     98765987659801          Group 1   \n",
       "1  Demo Product 1  Product Model 1     98765987659802          Group 2   \n",
       "2  Demo Product 1  Product Model 1     98765987659803          Group 3   \n",
       "3  Demo Product 1  Product Model 1     98765987659804          Group 4   \n",
       "4  Demo Product 1  Product Model 1     98765987659805          Group 5   \n",
       "\n",
       "   product MRP (rs.)  \n",
       "0               1001  \n",
       "1               1002  \n",
       "2               1003  \n",
       "3               1004  \n",
       "4               1005  "
      ]
     },
     "execution_count": 36,
     "metadata": {},
     "output_type": "execute_result"
    }
   ],
   "source": [
    "df2.head()"
   ]
  },
  {
   "cell_type": "markdown",
   "metadata": {},
   "source": [
    "<h3 style=\"color: blue\">Converting our data frame to list data structure</h3>\n",
    "<p><em> This has been done so that it becomes easier to transfer the data given in the excel sheet to our Elasticsearch database which we will see in the upcoming codes\n",
    "    </em>  </p>"
   ]
  },
  {
   "cell_type": "code",
   "execution_count": 37,
   "metadata": {},
   "outputs": [],
   "source": [
    "group_list = df1.values.tolist()\n",
    "product_list = df2.values.tolist()"
   ]
  },
  {
   "cell_type": "markdown",
   "metadata": {},
   "source": [
    "<h3 style=\"color: blue\">Connecting to elastic search</h3>\n",
    "<p><em>We require the host which in this case is \"101.53.136.181\" and port number, which in this case is \"9200\"\n",
    "    </em>  </p>"
   ]
  },
  {
   "cell_type": "code",
   "execution_count": 38,
   "metadata": {},
   "outputs": [],
   "source": [
    "es = Elasticsearch(HOST=\"101.53.136.181\", PORT=9200)"
   ]
  },
  {
   "cell_type": "markdown",
   "metadata": {},
   "source": [
    "<h3 style=\"color: blue\">Deleting the indices</h3>\n",
    "<p><em> Here, we try and delete the indices with the notion that if the index is already present in the node of the cluster then, it may arise error\n",
    "    </em>  </p>"
   ]
  },
  {
   "cell_type": "code",
   "execution_count": 75,
   "metadata": {},
   "outputs": [
    {
     "data": {
      "text/plain": [
       "{'acknowledged': True}"
      ]
     },
     "execution_count": 75,
     "metadata": {},
     "output_type": "execute_result"
    }
   ],
   "source": [
    "es.indices.delete(index=\"grouplisting\", ignore=400)\n",
    "es.indices.delete(index=\"productlisting\", ignore=400)"
   ]
  },
  {
   "cell_type": "markdown",
   "metadata": {},
   "source": [
    "<h3 style=\"color: blue\">Creating the index \"grouplisting\"</h3>\n",
    "<p><em>We create a new index named \"grouplisting\" \n",
    "    </em>  </p>"
   ]
  },
  {
   "cell_type": "code",
   "execution_count": 76,
   "metadata": {},
   "outputs": [
    {
     "data": {
      "text/plain": [
       "{'acknowledged': True, 'shards_acknowledged': True, 'index': 'grouplisting'}"
      ]
     },
     "execution_count": 76,
     "metadata": {},
     "output_type": "execute_result"
    }
   ],
   "source": [
    "es.indices.create(index=\"grouplisting\", ignore=400)"
   ]
  },
  {
   "cell_type": "markdown",
   "metadata": {},
   "source": [
    "<h3 style=\"color: blue\">Inserting data into the index \"grouplisting\"</h3>\n",
    "<p><em>We insert into the index the required data from the sheet \"group_listing\" of the excel workbook\n",
    "    </em>  </p>"
   ]
  },
  {
   "cell_type": "code",
   "execution_count": 77,
   "metadata": {},
   "outputs": [],
   "source": [
    "count = 0\n",
    "for i in group_list:\n",
    "    data = {\"group_name\":i[0], \"group_description\":i[1], \"isActive\":i[2]}\n",
    "    es.create(index=\"grouplisting\", doc_type=\"groupList\", body=data, id=count+1, refresh=True)\n",
    "    count += 1"
   ]
  },
  {
   "cell_type": "markdown",
   "metadata": {},
   "source": [
    "<h3 style=\"color: blue\">Creating the index \"productlisting\"</h3>\n",
    "<p><em>We create new index \"productlisting\"\n",
    "    </em>  </p>"
   ]
  },
  {
   "cell_type": "code",
   "execution_count": 65,
   "metadata": {},
   "outputs": [
    {
     "data": {
      "text/plain": [
       "{'acknowledged': True, 'shards_acknowledged': True, 'index': 'productlisting'}"
      ]
     },
     "execution_count": 65,
     "metadata": {},
     "output_type": "execute_result"
    }
   ],
   "source": [
    "es.indices.create(index=\"productlisting\", ignore=400)"
   ]
  },
  {
   "cell_type": "markdown",
   "metadata": {},
   "source": [
    "<h3 style=\"color: blue\">Inserting data into the index \"productlisting\"</h3>\n",
    "<p><em>We insert into the index the required data from the sheet \"product_listing\" of the excel workbook\n",
    "    </em>  </p>"
   ]
  },
  {
   "cell_type": "code",
   "execution_count": 66,
   "metadata": {},
   "outputs": [],
   "source": [
    "count = 0\n",
    "for i in product_list:\n",
    "    data = {\"product_serial_no\":i[2], \"product_name\":i[0], \"model_name\":i[1], \"group_assc\":i[3], \"MRP\":i[4]}\n",
    "    es.create(index=\"productlisting\", doc_type=\"productList\", body=data, id=count+1, refresh=True)\n",
    "    count += 1"
   ]
  },
  {
   "cell_type": "markdown",
   "metadata": {},
   "source": [
    "<h3 style=\"color: blue\">Getting the index data</h3>\n",
    "<p><em>We use get() in-order to fetch the data embedded into the index which show us the index mapping\n",
    "    </em>  </p>"
   ]
  },
  {
   "cell_type": "code",
   "execution_count": 78,
   "metadata": {},
   "outputs": [
    {
     "data": {
      "text/plain": [
       "{'_index': 'grouplisting',\n",
       " '_type': 'groupList',\n",
       " '_id': '2',\n",
       " '_version': 1,\n",
       " '_seq_no': 1,\n",
       " '_primary_term': 1,\n",
       " 'found': True,\n",
       " '_source': {'group_name': 'Group 2',\n",
       "  'group_description': 'Group Number 2',\n",
       "  'isActive': 'yes'}}"
      ]
     },
     "execution_count": 78,
     "metadata": {},
     "output_type": "execute_result"
    }
   ],
   "source": [
    "es.get(index=\"grouplisting\", doc_type=\"groupList\", id=2)"
   ]
  },
  {
   "cell_type": "code",
   "execution_count": 68,
   "metadata": {},
   "outputs": [
    {
     "data": {
      "text/plain": [
       "{'_index': 'productlisting',\n",
       " '_type': 'productList',\n",
       " '_id': '2',\n",
       " '_version': 1,\n",
       " '_seq_no': 1,\n",
       " '_primary_term': 1,\n",
       " 'found': True,\n",
       " '_source': {'product_serial_no': 98765987659802,\n",
       "  'product_name': 'Demo Product 1',\n",
       "  'model_name': 'Product Model 1',\n",
       "  'group_assc': 'Group 2',\n",
       "  'MRP': 1002}}"
      ]
     },
     "execution_count": 68,
     "metadata": {},
     "output_type": "execute_result"
    }
   ],
   "source": [
    "es.get(index=\"productlisting\", doc_type=\"productList\", id=2)"
   ]
  }
 ],
 "metadata": {
  "kernelspec": {
   "display_name": "Python 3",
   "language": "python",
   "name": "python3"
  },
  "language_info": {
   "codemirror_mode": {
    "name": "ipython",
    "version": 3
   },
   "file_extension": ".py",
   "mimetype": "text/x-python",
   "name": "python",
   "nbconvert_exporter": "python",
   "pygments_lexer": "ipython3",
   "version": "3.7.3"
  }
 },
 "nbformat": 4,
 "nbformat_minor": 2
}
